{
 "cells": [
  {
   "cell_type": "markdown",
   "metadata": {},
   "source": [
    "# Question 1:\n",
    "Define Object Oriented Programming Language?\n",
    "\n",
    "An object-oriented programming language (OOPL) is a high-level programming language based on the object-oriented model.\n",
    "To perform object-oriented programming, one needs an object-oriented programming language.  Many modern programming \n",
    "languages are object-oriented, however some older programming languages, such as Pascal, do offer object-oriented versions.\n",
    "Examples of object-oriented programming languages include Java, C++ and Python."
   ]
  },
  {
   "cell_type": "markdown",
   "metadata": {},
   "source": [
    "# Question 2:\n",
    "List down the Benefits of OOP?\n",
    "\n",
    "1. Modularity for easier troubleshooting\n",
    "2. Reuse of code \n",
    "3. Flexibility through polymorphism\n",
    "4. Effective problem solving"
   ]
  },
  {
   "cell_type": "markdown",
   "metadata": {},
   "source": [
    "# Question 3:\n",
    "Differentiate between function and method?\n",
    "\n",
    "Function:\n",
    "    A function is a piece of code that is called by name. It can be passed data to operate on (i.e. the parameters) and can\n",
    "    optionally return data (the return value). All data that is passed to a function is explicitly passed\n",
    "\n",
    "Method:\n",
    "     A method is a piece of code that is called by a name that is associated with an object."
   ]
  },
  {
   "cell_type": "markdown",
   "metadata": {},
   "source": [
    "# Question 4:\n",
    "Define the following terms:\n",
    "1. Class\n",
    "2. Object\n",
    "3. Attribute\n",
    "4. Behavior\n",
    "\n",
    "Class:\n",
    "    It is template or blueprint about the capability of what an object can do.\n",
    "Object:\n",
    "    An object(instance) is a intantiation of class. When class is defined only the description for the object is defined.\n",
    "    Therefore,no memory or storage is allocated.\n",
    "Attribute:\n",
    "    In OOP attributes are the features of object. \n",
    "    Example:\n",
    "        a car is an object which have multiple attributes like wheel, doors, color, engine etc\n",
    "Behaviour:\n",
    "    Every attribute has a behaviour E.g door open and close"
   ]
  },
  {
   "cell_type": "code",
   "execution_count": 4,
   "metadata": {},
   "outputs": [
    {
     "name": "stdout",
     "output_type": "stream",
     "text": [
      "\n",
      "Company   : Honda\n",
      "Car name  : Civic\n",
      "Car Model : 2016\n",
      "Car Color : White\n",
      "price     :  2900000\n",
      "\n",
      "Company   : Toyota\n",
      "Car name  : Corolla\n",
      "Car Model : 2019\n",
      "Car Color : Grey\n",
      "price     :  2500000\n",
      "\n",
      "Company   : Honda\n",
      "Car name  : City\n",
      "Car Model : 2018\n",
      "Car Color : red\n",
      "price     :  2300000\n",
      "\n",
      "Company   : Suzuki\n",
      "Car name  : Cultus\n",
      "Car Model : 2019\n",
      "Car Color : Silver\n",
      "price     :  1400000\n",
      "\n",
      "Company   : Suzuki\n",
      "Car name  : Wagonar\n",
      "Car Model : 2017\n",
      "Car Color : Blue\n",
      "price     :  1100000\n",
      "\n",
      "Total cars are  5\n"
     ]
    }
   ],
   "source": [
    "class Car():\n",
    "    count = 0\n",
    "    def __init__(self, company, name, model, color, price):\n",
    "        self.company = company\n",
    "        self.name = name\n",
    "        self.model = model\n",
    "        self.color = color\n",
    "        self.price = price\n",
    "        Car.count += 1\n",
    "    def show_car_price(self):\n",
    "        print(\"price     : \",self.price)\n",
    "    def show_car_detail(self):\n",
    "        print(f'\\nCompany   : {self.company}\\nCar name  : {self.name}\\nCar Model : {self.model}\\nCar Color : {self.color}')\n",
    "    def show_total_car():\n",
    "        print(\"\\nTotal cars are \",Car.count)\n",
    "cars = []\n",
    "car_1 = Car(\"Honda\", \"Civic\", \"2016\", \"White\", 2900000)\n",
    "cars.append(car_1)\n",
    "car_2= Car(\"Toyota\", \"Corolla\", \"2019\", \"Grey\", 2500000)\n",
    "cars.append(car_2)\n",
    "car_3= Car(\"Honda\", \"City\", \"2018\", \"red\",2300000)\n",
    "cars.append(car_3)\n",
    "car_4= Car(\"Suzuki\", \"Cultus\", \"2019\" , \"Silver\", 1400000)\n",
    "cars.append(car_4)\n",
    "car_5 = Car(\"Suzuki\", \"Wagonar\", \"2017\", \"Blue\", 1100000)\n",
    "cars.append(car_5)\n",
    "for each_car in cars:\n",
    "    each_car.show_car_detail()\n",
    "    each_car.show_car_price()\n",
    "Car.show_total_car()"
   ]
  }
 ],
 "metadata": {
  "kernelspec": {
   "display_name": "Python 3",
   "language": "python",
   "name": "python3"
  },
  "language_info": {
   "codemirror_mode": {
    "name": "ipython",
    "version": 3
   },
   "file_extension": ".py",
   "mimetype": "text/x-python",
   "name": "python",
   "nbconvert_exporter": "python",
   "pygments_lexer": "ipython3",
   "version": "3.7.4"
  }
 },
 "nbformat": 4,
 "nbformat_minor": 2
}
