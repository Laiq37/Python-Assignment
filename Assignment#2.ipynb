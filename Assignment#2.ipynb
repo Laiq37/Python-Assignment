{
 "cells": [
  {
   "cell_type": "code",
   "execution_count": 12,
   "metadata": {},
   "outputs": [
    {
     "name": "stdout",
     "output_type": "stream",
     "text": [
      "Input Five Subject marks :\n",
      "Enter Maths Marks out of 100 Marks= 95\n",
      "Enter Physic Marks out of 100 Marks= 70\n",
      "Enter Chemistry Marks out of 100 Marks = 65\n",
      "Enter Urdu Marks out of 100 Marks = 68\n",
      "Enter English Marks out of 100 Marks = 70\n",
      "Percentage = 73.6\n",
      "You Get A Grade\n"
     ]
    }
   ],
   "source": [
    "#1. Write a program which takes 5 inputs from user for different subject’s\n",
    "#marks, total it and generate mark sheet using grades ?\n",
    "print(\"Input Five Subject marks :\")\n",
    "math = int(input(\"Enter Maths Marks out of 100 Marks= \"))\n",
    "physic = int(input(\"Enter Physic Marks out of 100 Marks= \"))\n",
    "chemistry = int(input(\"Enter Chemistry Marks out of 100 Marks = \"))\n",
    "urdu = int(input(\"Enter Urdu Marks out of 100 Marks = \"))\n",
    "english = int(input(\"Enter English Marks out of 100 Marks = \"))\n",
    "mark_sum = math + physic + chemistry + urdu + english\n",
    "percen = (mark_sum/500) * 100\n",
    "print(f'Percentage = {percen}')\n",
    "if (percen >= 80 and percen <= 100): {\n",
    "    print(\"You Get A+ Grade\")\n",
    "}\n",
    "elif (percen >= 70 and percen < 80): {\n",
    "    print(\"You Get A Grade\")\n",
    "}\n",
    "elif (percen >= 60 and percen < 70): {\n",
    "    print(\"You Get B Grade\")\n",
    "}\n",
    "elif (percen >= 50 and percen < 60): {\n",
    "    print(\"You Get c Grade\")\n",
    "}\n",
    "elif (percen >= 50 and percen < 60): {\n",
    "    print(\"You Get c Grade\")\n",
    "}\n",
    "else: {\n",
    "    print(\"Failed 'F'\")\n",
    "}"
   ]
  },
  {
   "cell_type": "code",
   "execution_count": 14,
   "metadata": {},
   "outputs": [
    {
     "name": "stdout",
     "output_type": "stream",
     "text": [
      "This System identify the enter number is 'Odd' or 'Even' : \n",
      "Enter A Number = 5\n",
      "Its an \"Odd\" Number\n"
     ]
    }
   ],
   "source": [
    "#2. Write a program which take input from user and identify that the given\n",
    "#number is even or odd?\n",
    "print(\"This System identify the enter number is 'Odd' or 'Even' : \")\n",
    "num = int(input('Enter A Number = '))\n",
    "if (num%2 == 0):{\n",
    "    print('Its an \"Even\" Number')\n",
    "}\n",
    "elif (num%2 == 1):{\n",
    "    print('Its an \"Odd\" Number')\n",
    "}\n",
    "else:{\n",
    "    print(\"Error! you entered negative number \")\n",
    "}"
   ]
  },
  {
   "cell_type": "code",
   "execution_count": 17,
   "metadata": {},
   "outputs": [
    {
     "name": "stdout",
     "output_type": "stream",
     "text": [
      "Length of array is = 4\n"
     ]
    }
   ],
   "source": [
    "#3. Write a program which print the length of the list?\n",
    "games = ['CSGO', 'FIFA', 'NFS', 'APEX LEGEND']\n",
    "print(f'Length of array is = {len(games)}')"
   ]
  },
  {
   "cell_type": "code",
   "execution_count": 16,
   "metadata": {},
   "outputs": [
    {
     "name": "stdout",
     "output_type": "stream",
     "text": [
      "Sum Of all numeric items in list is : 29\n"
     ]
    }
   ],
   "source": [
    "#4. Write a Python program to sum all the numeric items in a list?\n",
    "mix_arr = [5, 7, 8, 6, 3]\n",
    "add = mix_arr[0] + mix_arr[1] + mix_arr[2] + mix_arr[3] + mix_arr[4]\n",
    "print(\"Sum Of all numeric items in list is : \"+str(add))\n"
   ]
  },
  {
   "cell_type": "code",
   "execution_count": 6,
   "metadata": {},
   "outputs": [
    {
     "name": "stdout",
     "output_type": "stream",
     "text": [
      "The largest no. in numeric list is : 55\n"
     ]
    }
   ],
   "source": [
    "#5. Write a Python program to get the largest number from a numeric list.\n",
    "arr = [11, 20, 10, 55]\n",
    "if arr[0] > arr[1]: \n",
    "    if arr[0] > arr[2]: \n",
    "        if arr[0] > arr[3]: \n",
    "            print(f'The largest no. in numeric list is : {arr[0]}')\n",
    "        else:\n",
    "            print(f'The largest no. in numeric list is : {arr[3]}')\n",
    "    else:\n",
    "        if arr[2] > arr[3]: \n",
    "            print(f'The largest no. in numeric list is : {arr[2]}')\n",
    "        else: \n",
    "            print(f'The largest no. in numeric list is : {arr[3]}')\n",
    "else: \n",
    "    if arr[1] > arr[2]: \n",
    "        if arr[1] > arr[3]: \n",
    "            print(f'The largest no. in numeric list is : {arr[1]}')\n",
    "        else: \n",
    "            print(f'The largest no. in numeric list is : {arr[3]}')\n",
    "    else: \n",
    "        if arr[2] > arr[3]: \n",
    "            print(f'The largest no. in numeric list is : {arr[2]}')\n",
    "        else: \n",
    "            print(f'The largest no. in numeric list is : {arr[3]}')\n",
    "        \n",
    "    \n",
    "\n",
    "    \n"
   ]
  },
  {
   "cell_type": "code",
   "execution_count": 5,
   "metadata": {},
   "outputs": [
    {
     "name": "stdout",
     "output_type": "stream",
     "text": [
      "The no. less than 5 in numeric list are : [4, 1, 2]\n"
     ]
    }
   ],
   "source": [
    "'''6. Take a list, say for example this one:\n",
    "a = [1, 1, 2, 3, 5, 8, 13, 21, 34, 55, 89]\n",
    "and write a program that prints out all the elements of the list that are\n",
    "less than 5.'''\n",
    "less_five = []\n",
    "arr = [5, 4, 1, 2, 9]\n",
    "if arr[0] < 5:\n",
    "    less_five.append(arr[0])# in python append work like push\n",
    "if arr[1] < 5:\n",
    "    less_five.append(arr[1])\n",
    "if arr[2] < 5:\n",
    "    less_five.append(arr[2])\n",
    "if arr[3] < 5:\n",
    "    less_five.append(arr[3])\n",
    "if arr[4] < 5:\n",
    "    less_five.append(arr[4])\n",
    "print(f'The no. less than 5 in numeric list are : {less_five}')\n"
   ]
  }
 ],
 "metadata": {
  "kernelspec": {
   "display_name": "Python 3",
   "language": "python",
   "name": "python3"
  },
  "language_info": {
   "codemirror_mode": {
    "name": "ipython",
    "version": 3
   },
   "file_extension": ".py",
   "mimetype": "text/x-python",
   "name": "python",
   "nbconvert_exporter": "python",
   "pygments_lexer": "ipython3",
   "version": "3.7.4"
  }
 },
 "nbformat": 4,
 "nbformat_minor": 2
}
