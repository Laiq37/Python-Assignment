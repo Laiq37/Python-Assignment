{
 "cells": [
  {
   "cell_type": "code",
   "execution_count": 4,
   "metadata": {},
   "outputs": [
    {
     "name": "stdout",
     "output_type": "stream",
     "text": [
      "{'first_name': 'Hamza', 'last_name': 'Umer', 'age': 20, 'city': 'Karachi'}\n",
      "{'first_name': 'Hamza', 'last_name': 'Umer', 'age': 20, 'city': 'Karachi', 'qualification': 'high Academic Value'}\n",
      "{'first_name': 'Hamza', 'last_name': 'Umer', 'age': 20, 'city': 'Karachi'}\n"
     ]
    }
   ],
   "source": [
    "'''1. Use a dictionary to store information about a person you know. Store their first name, last name, age, and the city in which they live. You should have keys such as first_name, last_name, age, and city. Print each piece of information stored in your dictionary. Add a new key value pair about qualification then update the qualification value to high academic level then delete it.'''\n",
    "per_info = {\"first_name\": \"Hamza\",\n",
    "           \"last_name\": \"Umer\",\n",
    "           \"age\": 20,\n",
    "           \"city\": \"Karachi\"}\n",
    "print(per_info)\n",
    "per_info[\"qualification\"] = \"high Academic Value\"\n",
    "print(per_info)\n",
    "del per_info[\"qualification\"]\n",
    "print(per_info)\n"
   ]
  },
  {
   "cell_type": "code",
   "execution_count": 5,
   "metadata": {
    "scrolled": true
   },
   "outputs": [
    {
     "name": "stdout",
     "output_type": "stream",
     "text": [
      "Karachi :\n",
      " 1. It is the city of Pakistan.\n",
      " 2. It has the population of 14.91 millions according to 2017 census.\n",
      " 3. Fact of Karachi is ,It is the sixth largest city of the World.\n",
      "\n",
      "Lahore :\n",
      " 1. It is the city of Pakistan.\n",
      " 2. It has the population of 11.13 millions according to 2017 census.\n",
      " 3. Fact of Lahore is ,Maximun historic and cultural places positioned and history was written in this city.\n",
      "\n",
      "Islamabad :\n",
      " 1. It is the city of Pakistan.\n",
      " 2. It has the population of 1.015 million according to 2017 census.\n",
      " 3. Fact of Islamabad is ,Islamabad has fifteen medical and dental colleges, twenty-two engineering universities and more than 20 general category universities!.\n",
      "\n"
     ]
    }
   ],
   "source": [
    "'''2. Make a dictionary called cities. Use the names of three cities as keys in your dictionary. Create a dictionary of information about each city and include the country that the city is in, its approximate population, and one fact about that city. The keys for each city’s dictionary should be something like country, population, and fact. Print the name of each city and all of the information you have stored about it.'''\n",
    "cities = {'Karachi':{\n",
    "    \"Country\": 'Pakistan',\n",
    "    \"population\": \"14.91 millions\",\n",
    "    \"fact\": \"It is the sixth largest city of the World\"\n",
    "} ,\n",
    "         'Lahore': {\n",
    "    \"Country\": 'Pakistan',\n",
    "    \"population\": \"11.13 millions\",\n",
    "    \"fact\": \"Maximun historic and cultural places positioned and history was written in this city\"\n",
    "} ,\n",
    "         'Islamabad': {\n",
    "    \"Country\": 'Pakistan',\n",
    "    \"population\": \"1.015 million\",\n",
    "    \"fact\": \"Islamabad has fifteen medical and dental colleges, twenty-two engineering universities and more than 20 general category universities!\" \n",
    "} }\n",
    "for city_name,city_detail in cities.items():\n",
    "    print(f'{city_name} :\\n 1. It is the city of {city_detail[\"Country\"]}.\\n 2. It has the population of {city_detail[\"population\"]} according to 2017 census.\\n 3. Fact of {city_name} is ,{city_detail[\"fact\"]}.\\n')"
   ]
  },
  {
   "cell_type": "code",
   "execution_count": 9,
   "metadata": {},
   "outputs": [
    {
     "name": "stdout",
     "output_type": "stream",
     "text": [
      "Enter total no. of person want to buy tickect for movie : 3\n",
      "\n",
      "Enter Your age : 14\n",
      "You are 14 years old\n",
      "Tickets Price: 15 $\n",
      "\n",
      "Enter Your age : 11\n",
      "You are 11 years old \n",
      "Tickets Price: 12 $\n",
      "\n",
      "Enter Your age : 2\n",
      "Tickets are free\n",
      "\n",
      "total Cost: 27 $\n"
     ]
    }
   ],
   "source": [
    "'''3. A movie theater charges different ticket prices depending on a person’s age. If a person is under the age of 3, the ticket is free; if they are between 3 and 12, the ticket is $10; and if they are over age 12, the ticket is $15. Write a loop in which you ask users their age, and then tell them the cost of their movie ticket.'''\n",
    "total_per = int(input('Enter total no. of person want to buy tickect for movie : '))\n",
    "total_cost = 0\n",
    "for age in range(total_per):\n",
    "    age = int(input('\\nEnter Your age : '))\n",
    "    if age < 3:\n",
    "        indi_cost = 0\n",
    "        total_cost += indi_cost\n",
    "        print(\"Tickets are free\")\n",
    "    elif age >= 3 and age <= 12: \n",
    "        indi_cost = 12\n",
    "        total_cost += indi_cost\n",
    "        print(f\"You are {age} years old \\nTickets Price: {indi_cost} $\")\n",
    "    else:\n",
    "        indi_cost = 15\n",
    "        total_cost += indi_cost\n",
    "        print(f'You are {age} years old\\nTickets Price: {indi_cost} $')\n",
    "print(f'\\ntotal Cost: {total_cost} $')"
   ]
  },
  {
   "cell_type": "code",
   "execution_count": 10,
   "metadata": {},
   "outputs": [
    {
     "name": "stdout",
     "output_type": "stream",
     "text": [
      "Enter your favourite book name : Ali Baba Chalees Chor\n",
      "One of my favorite books is \"Ali Baba Chalees Chor\" \n"
     ]
    }
   ],
   "source": [
    "'''4. Write a function called favorite_book() that accepts one parameter, title. The function should print a message, such as One of my favorite books is Alice in Wonderland. Call the function, making sure to include a book title as an argument in the function call.'''\n",
    "def favorite_book(title = 'Alice in Wonderland'):\n",
    "    print(f'One of my favorite books is \"{title}\" ')\n",
    "favorite_book(title = input(\"Enter your favourite book name : \"))"
   ]
  },
  {
   "cell_type": "code",
   "execution_count": 11,
   "metadata": {},
   "outputs": [
    {
     "name": "stdout",
     "output_type": "stream",
     "text": [
      "Welcome to Guess a Number game: \n",
      "\n",
      "You have only three turns to guess a number\n",
      "Guess a no. b/w 1 to 30\n",
      "\n",
      "Enter a Guess no : 9\n",
      "You guess a wrong no.\n",
      "Hint: guess number is greater than ur entered no.\n",
      "Turns Remaining = 2\n",
      "\n",
      "Enter a Guess no : 25\n",
      "You guess a wrong no.\n",
      "Hint: guess number is less than your entered no.\n",
      "Turns Remaining = 1\n",
      "\n",
      "Enter a Guess no : 24\n",
      "You guess a wrong no.\n",
      "Hint: guess number is less than your entered no.\n",
      "Turns Remaining = 0\n",
      "\n",
      "Better luck next time u didnt guess no. in 3 turns \n",
      "Anwser is 12\n"
     ]
    }
   ],
   "source": [
    "'''5. Guess the number game\n",
    "Write a program which randomly generate a number between 1 to 30 and ask the user in input field to guess the correct number. Give three chances to user guess the number and also give hint to user if hidden number is greater or smaller than the number he given to input field.\n",
    "'''\n",
    "#when we use \"from random import randint\" the 'syntax : randint(start,end)'\n",
    "import random #when we use this 'syntax : random.randint(start,end)'\n",
    "print(\"Welcome to Guess a Number game: \")\n",
    "guess_ans = random.randint(1, 30)\n",
    "guess_turn = 0\n",
    "guess_left = 3\n",
    "print('\\nYou have only three turns to guess a number\\nGuess a no. b/w 1 to 30')\n",
    "for guess_no in range(guess_left):\n",
    "    guess_no = int(input(\"\\nEnter a Guess no : \"))\n",
    "    if guess_turn < 3:\n",
    "        \n",
    "        if guess_no == guess_ans:\n",
    "            guess_turn += 1\n",
    "            guess_left -= 1\n",
    "            print(f\"Congratulatio!\\nYou guess a correct no.\\nTotal Turns Taken = {guess_turn} turns\\nTurns Remaining = {guess_left}\")\n",
    "            break\n",
    "        elif guess_no < guess_ans:\n",
    "            guess_turn += 1\n",
    "            guess_left -= 1\n",
    "            print(f\"You guess a wrong no.\\nHint: guess number is greater than ur entered no.\\nTurns Remaining = {guess_left}\")\n",
    "        else:\n",
    "            guess_turn += 1\n",
    "            guess_left -= 1\n",
    "            print(f\"You guess a wrong no.\\nHint: guess number is less than your entered no.\\nTurns Remaining = {guess_left}\")\n",
    "    if guess_left == 0 and guess_no != guess_ans:\n",
    "        print(f'\\nBetter luck next time u didnt guess no. in 3 turns \\nAnwser is {guess_ans}')"
   ]
  },
  {
   "cell_type": "code",
   "execution_count": null,
   "metadata": {},
   "outputs": [],
   "source": []
  }
 ],
 "metadata": {
  "kernelspec": {
   "display_name": "Python 3",
   "language": "python",
   "name": "python3"
  },
  "language_info": {
   "codemirror_mode": {
    "name": "ipython",
    "version": 3
   },
   "file_extension": ".py",
   "mimetype": "text/x-python",
   "name": "python",
   "nbconvert_exporter": "python",
   "pygments_lexer": "ipython3",
   "version": "3.7.4"
  }
 },
 "nbformat": 4,
 "nbformat_minor": 2
}
