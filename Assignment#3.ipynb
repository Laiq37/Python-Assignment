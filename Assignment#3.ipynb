{
 "cells": [
  {
   "cell_type": "code",
   "execution_count": 3,
   "metadata": {},
   "outputs": [
    {
     "name": "stdout",
     "output_type": "stream",
     "text": [
      "                                   Calculator\n",
      "Enter first value : 2\n",
      "Enter Opereator : **\n",
      "Enter second value : 3\n",
      "8\n"
     ]
    }
   ],
   "source": [
    "#1. Make a calculator using Python with addition , subtraction , multiplication ,\n",
    "#division and power.\n",
    "print(\"                                   Calculator\")\n",
    "value_1 = int(input(\"Enter first value : \"))\n",
    "operator = input(\"Enter Opereator : \")\n",
    "value_2 = int(input(\"Enter second value : \"))\n",
    "if operator == '+':\n",
    "    ans = value_1 + value_2\n",
    "if operator == '-':\n",
    "    ans = value_1 - value_2\n",
    "if operator == '/':\n",
    "    ans = value_1 / value_2\n",
    "if operator == '*':\n",
    "    ans = value_1 * value_2\n",
    "if operator == '**':\n",
    "    ans = value_1 ** value_2\n",
    "print(ans)"
   ]
  },
  {
   "cell_type": "code",
   "execution_count": 14,
   "metadata": {},
   "outputs": [
    {
     "name": "stdout",
     "output_type": "stream",
     "text": [
      "There are 3 numeric values in list\n"
     ]
    }
   ],
   "source": [
    "#2. Write a program to check if there is any numeric value in list using for loop\n",
    "arr = [6, 'str1', 'str2', 8, 9]\n",
    "i = 0\n",
    "for mix in arr:\n",
    "    if isinstance(mix,int): #isinstance(mix,str)\n",
    "        i = i + 1\n",
    "print(f'There are {i} numeric values in list')"
   ]
  },
  {
   "cell_type": "code",
   "execution_count": 29,
   "metadata": {},
   "outputs": [
    {
     "name": "stdout",
     "output_type": "stream",
     "text": [
      "Dictionary before adding key:  {}\n",
      "Dictionary after adding key:  {'key_1': 'value_1'}\n"
     ]
    }
   ],
   "source": [
    "#3. Write a Python script to add a key to a dictionary\n",
    "dic = {}\n",
    "print(\"Dictionary before adding key: \",dic)\n",
    "dic['key_1'] = \"value_1\"\n",
    "print(\"Dictionary after adding key: \",dic)"
   ]
  },
  {
   "cell_type": "code",
   "execution_count": 37,
   "metadata": {},
   "outputs": [
    {
     "name": "stdout",
     "output_type": "stream",
     "text": [
      "the sum of all numeric items in list is : 6\n"
     ]
    }
   ],
   "source": [
    "#4. Write a Python program to sum all the numeric items in a dictionary\n",
    "dic = {1: 'one','two': 2,'three': 3}\n",
    "numeric = 0\n",
    "for each_key, each_value in dic.items():\n",
    "    if isinstance(each_key,int):\n",
    "        numeric = numeric + each_key\n",
    "    if isinstance(each_value,int):\n",
    "        numeric = numeric + each_value\n",
    "print(f'the sum of all numeric items in list is : {numeric}')"
   ]
  },
  {
   "cell_type": "code",
   "execution_count": 39,
   "metadata": {},
   "outputs": [
    {
     "name": "stdout",
     "output_type": "stream",
     "text": [
      "the key_4 has the duplicatice value of key_1 which is value_1\n",
      "the key_1 has the duplicatice value of key_4 which is value_1\n"
     ]
    }
   ],
   "source": [
    "#5. Write a program to identify duplicate values from list\n",
    "dic = {'key_1': 'value_1', 'key_2': 'value_2', 'key_3': 'value_3', 'key_4': 'value_1'}\n",
    "for each_key, each_value in dic.items():\n",
    "    for each_key_dup, each_value_dup in dic.items():\n",
    "        if each_key != each_key_dup and each_value == each_value_dup:\n",
    "            print('the '+each_key_dup+' has the duplicatice value of '+each_key+' which is '+each_value)"
   ]
  },
  {
   "cell_type": "code",
   "execution_count": 40,
   "metadata": {},
   "outputs": [
    {
     "name": "stdout",
     "output_type": "stream",
     "text": [
      "Enter a key: key_4\n",
      "The given key is already exist\n"
     ]
    }
   ],
   "source": [
    "#6. Write a Python script to check if a given key already exists in a dictionary\n",
    "dic = {'key_1': 'value_1', 'key_2': 'value_2', 'key_3': 'value_3', 'key_4': 'value_4'}\n",
    "key = input(\"Enter a key: \")\n",
    "for each_key in dic.keys():\n",
    "    if key == each_key:\n",
    "        print('The given key is already exist')"
   ]
  }
 ],
 "metadata": {
  "kernelspec": {
   "display_name": "Python 3",
   "language": "python",
   "name": "python3"
  },
  "language_info": {
   "codemirror_mode": {
    "name": "ipython",
    "version": 3
   },
   "file_extension": ".py",
   "mimetype": "text/x-python",
   "name": "python",
   "nbconvert_exporter": "python",
   "pygments_lexer": "ipython3",
   "version": "3.7.4"
  }
 },
 "nbformat": 4,
 "nbformat_minor": 2
}
