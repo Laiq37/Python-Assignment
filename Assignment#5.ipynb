{
 "cells": [
  {
   "cell_type": "code",
   "execution_count": 13,
   "metadata": {},
   "outputs": [
    {
     "name": "stdout",
     "output_type": "stream",
     "text": [
      "Enter A Number To Find Its Factorial : 7\n",
      "Factorial of 7 is 5040\n"
     ]
    }
   ],
   "source": [
    "'''Question:1\n",
    "Write a Python function to calculate the factorial of a number (a non-negative\n",
    "integer). The function accepts the number as an argument.'''\n",
    "def func(factorial_num):\n",
    "    factorial = 1\n",
    "    num = factorial_num\n",
    "    for fact in range(1,factorial_num):\n",
    "        factorial *=  factorial_num\n",
    "        factorial_num = factorial_num - 1\n",
    "    print(f'Factorial of {num} is {factorial}')\n",
    "func(int(input('Enter A Number To Find Its Factorial : ')))      "
   ]
  },
  {
   "cell_type": "code",
   "execution_count": 1,
   "metadata": {},
   "outputs": [
    {
     "name": "stdout",
     "output_type": "stream",
     "text": [
      "Enter a string : SyEd AhMeD\n",
      "Total Uppercase letter are :  5\n"
     ]
    }
   ],
   "source": [
    "'''Question:2\n",
    "Write a Python function that accepts a string and calculate the number of upper\n",
    "case letters and lower case letters.'''\n",
    "def upp_str(cal_uc):\n",
    "    no_upcase = 0\n",
    "    for let in range(0,len(cal_uc)):\n",
    "        if cal_uc[let] == cal_uc[let].upper():\n",
    "            if cal_uc[let] != ' ':\n",
    "                no_upcase += 1\n",
    "    return no_upcase\n",
    "    #print(no_upcase)\n",
    "print(\"Total Uppercase letter are : \",upp_str(input(\"Enter a string : \")))"
   ]
  },
  {
   "cell_type": "code",
   "execution_count": 3,
   "metadata": {},
   "outputs": [
    {
     "name": "stdout",
     "output_type": "stream",
     "text": [
      "Enter Total number of list element : 7\n",
      "Enter 1 Number : 3\n",
      "Enter 2 Number : 2\n",
      "Enter 3 Number : 1\n",
      "Enter 4 Number : 6\n",
      "Enter 5 Number : 8\n",
      "Enter 6 Number : 30\n",
      "Enter 7 Number : 20\n",
      "Even Numbers are : [2, 6, 8, 30, 20]\n"
     ]
    }
   ],
   "source": [
    "'''Question:3\n",
    "Write a Python function to print the even numbers from a given list.'''\n",
    "def even_list(mix_no):\n",
    "    even = []\n",
    "    for check in mix_no:\n",
    "        if check%2 == 0:\n",
    "            even.append(check)\n",
    "    return even\n",
    "in_list = int(input(\"Enter Total number of list element : \"))\n",
    "mix_no = []\n",
    "for i in range(0,in_list):\n",
    "    mix_no.append(int(input(f'Enter {i+1} Number : ')))\n",
    "print(f'Even Numbers are : {even_list(mix_no)}')"
   ]
  },
  {
   "cell_type": "code",
   "execution_count": 11,
   "metadata": {},
   "outputs": [
    {
     "name": "stdout",
     "output_type": "stream",
     "text": [
      "Enter a word : Python\n",
      "Python is not Palindrome\n"
     ]
    }
   ],
   "source": [
    "'''Question:4\n",
    "Write a Python function that checks whether a passed string is palindrome or not.\n",
    "Note: A palindrome is a word, phrase, or sequence that reads the same\n",
    "backward as forward, e.g., madam'''\n",
    "def palin(check_palindrome):\n",
    "    if check_palindrome[0] == check_palindrome[-1]:\n",
    "        print(f'{check_palindrome} is Palindrome')\n",
    "    else:\n",
    "        print(f'{check_palindrome} is not Palindrome')\n",
    "palin(input(\"Enter a word : \"))"
   ]
  },
  {
   "cell_type": "code",
   "execution_count": 14,
   "metadata": {},
   "outputs": [
    {
     "name": "stdout",
     "output_type": "stream",
     "text": [
      "Enter a prime no : 541\n",
      "541 is a prime no.\n"
     ]
    }
   ],
   "source": [
    "'''Question:5\n",
    "Write a Python function that takes a number as a parameter and check the\n",
    "number is prime or not.'''\n",
    "def func(prime_no):\n",
    "    check_prime = 'is a prime no.'\n",
    "    for prime in range(2,prime_no - 1):\n",
    "        if (prime_no%prime == 0):\n",
    "            check_prime = 'is not a prime no '\n",
    "            break\n",
    "    print(f'{prime_no} {check_prime}')\n",
    "func(int(input('Enter a prime no : ')))"
   ]
  },
  {
   "cell_type": "code",
   "execution_count": 9,
   "metadata": {},
   "outputs": [
    {
     "name": "stdout",
     "output_type": "stream",
     "text": [
      "You bought the Following Items From market : Milk, Cold Drinks, Eggs, Banana, T-shirts, Pants & Shoes"
     ]
    }
   ],
   "source": [
    "'''Question: 6\n",
    "Suppose a customer is shopping in a market and you need to print all the items\n",
    "which user bought from market.\n",
    "Write a function which accepts the multiple arguments of user shopping list and\n",
    "print all the items which user bought from market.\n",
    "(Hint: Arbitrary Argument concept can make this task ease)'''\n",
    "def shopping_list(*user_shop_list):\n",
    "    print(\"You bought the Following Items From market : \",end=\"\")\n",
    "    for each_item in user_shop_list:\n",
    "        print(each_item,end = '')\n",
    "        if each_item == user_shop_list[-2]:\n",
    "            print(end = ' & ')\n",
    "        elif each_item != user_shop_list[-1]:\n",
    "            print(end = \", \")\n",
    "shopping_list(\"Milk\", \"Cold Drinks\", \"Eggs\", \"Banana\", \"T-shirts\", \"Pants\", \"Shoes\")"
   ]
  },
  {
   "cell_type": "code",
   "execution_count": null,
   "metadata": {},
   "outputs": [],
   "source": []
  }
 ],
 "metadata": {
  "kernelspec": {
   "display_name": "Python 3",
   "language": "python",
   "name": "python3"
  },
  "language_info": {
   "codemirror_mode": {
    "name": "ipython",
    "version": 3
   },
   "file_extension": ".py",
   "mimetype": "text/x-python",
   "name": "python",
   "nbconvert_exporter": "python",
   "pygments_lexer": "ipython3",
   "version": "3.7.4"
  }
 },
 "nbformat": 4,
 "nbformat_minor": 2
}
